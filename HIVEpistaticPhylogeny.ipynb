{
  "cells": [
    {
      "cell_type": "code",
      "execution_count": 1,
      "metadata": {
        "colab": {
          "base_uri": "https://localhost:8080/"
        },
        "id": "cWOWnxNGoT6d",
        "outputId": "8299ed82-d88f-4ca7-efce-5bd57ee220b3"
      },
      "outputs": [
        {
          "output_type": "stream",
          "name": "stdout",
          "text": [
            "Collecting biopython\n",
            "  Downloading biopython-1.79-cp37-cp37m-manylinux_2_5_x86_64.manylinux1_x86_64.whl (2.3 MB)\n",
            "\u001b[K     |████████████████████████████████| 2.3 MB 5.0 MB/s \n",
            "\u001b[?25hRequirement already satisfied: numpy in /usr/local/lib/python3.7/dist-packages (from biopython) (1.21.5)\n",
            "Installing collected packages: biopython\n",
            "Successfully installed biopython-1.79\n"
          ]
        }
      ],
      "source": [
        "! pip install biopython\n",
        "# Importing necessary libraries from BioPython\n",
        "from Bio import Phylo, AlignIO\n",
        "from Bio.Phylo.TreeConstruction import DistanceCalculator, DistanceTreeConstructor"
      ]
    },
    {
      "cell_type": "code",
      "execution_count": 2,
      "metadata": {
        "colab": {
          "base_uri": "https://localhost:8080/"
        },
        "id": "XyVyxgxYpQS7",
        "outputId": "5042e36f-d5cf-4f60-d01c-e9275b12265b"
      },
      "outputs": [
        {
          "output_type": "stream",
          "name": "stdout",
          "text": [
            "/content/drive/MyDrive/hivepistatic\n"
          ]
        }
      ],
      "source": [
        "%cd drive/MyDrive/hivepistatic/"
      ]
    },
    {
      "cell_type": "code",
      "execution_count": 3,
      "metadata": {
        "colab": {
          "base_uri": "https://localhost:8080/"
        },
        "id": "2S3IREAIpY7n",
        "outputId": "f84b0331-43b1-4c65-afac-aacb6c1b4c07"
      },
      "outputs": [
        {
          "output_type": "stream",
          "name": "stdout",
          "text": [
            "phyl.phy\n"
          ]
        }
      ],
      "source": [
        "! ls"
      ]
    },
    {
      "cell_type": "code",
      "execution_count": 4,
      "metadata": {
        "id": "jMRFvoIXo70J"
      },
      "outputs": [],
      "source": [
        "# Read the sequences and align\n",
        "align = AlignIO.read('phyl.phy','phylip')\n",
        "# print(align)"
      ]
    },
    {
      "cell_type": "code",
      "source": [
        "print(align)"
      ],
      "metadata": {
        "colab": {
          "base_uri": "https://localhost:8080/"
        },
        "id": "NOGBNigqwkHK",
        "outputId": "443595c8-1969-4a99-a9a5-934095be8148"
      },
      "execution_count": 5,
      "outputs": [
        {
          "output_type": "stream",
          "name": "stdout",
          "text": [
            "Alignment with 2008 rows and 563 columns\n",
            "PISPIETVPVKLKPGMDGPKVKQWPLTEEKIKALIEICTEMEKE...--- 1573402585\n",
            "PISPIETVPVKLKPGMDGPKVKQWPLTEEKIKALEEICTEMEKE...--- 8346970EC5\n",
            "PISPIETVPVKLKPGMDGPKVKQWPLTEEKIKALXEICTEMEKE...XXX 102515190G\n",
            "PISPIETVPVKLKPGMDGPKVKQWPLTEEKIKALVEICTEMEKE...XXX 102515235G\n",
            "PISPIETVPVKLKPGMDGPKVKQWPLTEEKIKALIEICTEMEKE...XXX 111319503V\n",
            "PISPIETVPVKLKPGMDGPKVKQWPLTEEKIKALIEICTEMEKE...XXX 1612437103\n",
            "PISPIETVPVKLKPGMDGPKVKQWPLTEEKIKALIEICTEMEKE...XXX 1612437241\n",
            "PISPIETVPVKLKPGMDGPKVKQWPLTEEKIKALIEICTEMEKE...XXX 1612437251\n",
            "PISPIETVPVKLKPGMDGPKVKQWPLTEEKIKALIEICTEMEKE...XXX 1612437262\n",
            "PISPIETVPVKLKPGMDGPKVKQWPLTEEKIKALIEICTEMEKE...XXX 1612437272\n",
            "PISPIETVPVKLKPGMDGPKVKQWPLTEEKIKALIEICTEMEKE...XXX 1612437282\n",
            "PISPIETVPVKLKPGMDGPKVKQWPLTEEKIKALIEICTEMEXE...XXX 1612437292\n",
            "PISPIETVPVKLKPGTDGPKVKQWPLTEEKIKALIEICTEMEKE...XXX 1612437302\n",
            "PISPIETVPVKLKPGMDGPKVKQWPLTEEKIKALIEICTEMEKE...XXX 1612437323\n",
            "PISPIETVPVKLKPGMDGPKVKQWPLTEEKIKALIEICTEMEKE...XXX 1612437333\n",
            "PISPIETVPVKLKPGMDGPKVKQWPLTEEKIKALIEICTEMEKE...XXX 1612437343\n",
            "PISPIETVPVXLKPGMDGPKVKQWPLTEEKIKALIEICTEMEKE...XXX 1612437364\n",
            "PISPIETVPVKLKPGMDGPKVKQWPLTEEKIKALIEICTEMEKE...XXX 1612437384\n",
            "...\n",
            "PISPIETVPVKLKPGMDGPKIKQWPLTEEKIKALIEICTEMEKE...XXX 8705700CA1\n"
          ]
        }
      ]
    },
    {
      "cell_type": "code",
      "execution_count": null,
      "metadata": {
        "colab": {
          "background_save": true
        },
        "id": "wEKlG1JqpdNd"
      },
      "outputs": [],
      "source": [
        "# Calculate the distance matrix\n",
        "calculator = DistanceCalculator('identity')\n",
        "distMatrix = calculator.get_distance(align)"
      ]
    },
    {
      "cell_type": "code",
      "execution_count": null,
      "metadata": {
        "id": "A39Ehf6tps07"
      },
      "outputs": [],
      "source": [
        "# Create a DistanceTreeConstructor object\n",
        "constructor = DistanceTreeConstructor()\n",
        "# Construct the phlyogenetic tree using UPGMA algorithm\n",
        "UPGMATree = constructor.upgma(distMatrix)\n",
        "# Construct the phlyogenetic tree using NJ algorithm\n",
        "NJTree = constructor.nj(distMatrix)"
      ]
    },
    {
      "cell_type": "code",
      "execution_count": null,
      "metadata": {
        "id": "0p2-3_rZpxHw"
      },
      "outputs": [],
      "source": [
        "print(max(UPGMATree.depths().values()))\n",
        "print(max(NJTree.depths().values()))"
      ]
    },
    {
      "cell_type": "markdown",
      "metadata": {
        "id": "2wEBS-owtZeU"
      },
      "source": [
        "# Results\n",
        "- Ideas\n",
        "  - Line graph w/ randoms\n",
        "  - Split clusters\n",
        "  - Sample size show no correlation \n",
        "  - Pick one random \n",
        "  - Compare to MDS w/ avg. upgma score \n",
        "\n",
        "- Random (862 sequences)\n",
        "  - UPGMA max depth: **0.5030869476205833**\n",
        "  - NJ: 0.6190165400187617\n",
        "\n",
        "- Random (400 sequences)\n",
        "  - **0.48077921768268006**\n",
        "  - 0.6310787678532543\n",
        "\n",
        "- Random (50 sequences)\n",
        "  - **0.30093904752714384**\n",
        "  - 0.5688512432920655\n",
        "\n",
        "- Cluster 1 (383 sequences)\n",
        "  - **0.5420441519941083**\n",
        "  - 0.6081324277961806\n",
        "\n",
        "- Cluster 2 (52 sequences)\n",
        "  - **0.30866231037499003**\n",
        "  - 0.5784060997790734 \n",
        "\n",
        "- Cluster 3 (2008 sequences)\n",
        "\n",
        "- Cluster 4 (30 seqs)\n",
        "  - **0.2970293766651865**\n",
        "  - 0.5774548773830228\n",
        "\n",
        "- Cluster 5 (33 sequences)\n",
        "  - **0.0292241687673023**\n",
        "  - 0.035039906386004835\n",
        "\n",
        "- Cluster 6 (138 sequences)\n",
        "  - **0.0429041048984968**\n",
        "  - 0.043491013699699904\n",
        "\n",
        "- Cluster 7 (32 sequences)\n",
        "  - **0.04554633348915548**\n",
        "  - 0.036480853039894644\n",
        "\n",
        "- Cluster 8 (68 sequences)\n",
        "  - **0.033325433995753315**\n",
        "  - 0.03210563470964635\n",
        "\n",
        "- Cluster 9 (68 sequences)\n",
        "  - **0.027427442967362346**\n",
        "  - 0.03515243927653998\n",
        "\n",
        "- Cluster 10 (54 sequences)\n",
        "  - **0.03364272312415005**\n",
        "  - 0.025572031877494725\n",
        "\n",
        "- Cluster 11 (43 sequences)\n",
        "  - **0.024331519701129393**\n",
        "  - 0.025916679883483625\n",
        "\n",
        "- Cluster 12 (45 sequences)\n",
        "  - **0.026444207923238688**\n",
        "  - 0.02925759992601297\n",
        "\n",
        "- Cluster 13 (48 sequences)\n",
        "  - **0.02972676360162502**\n",
        "  - 0.031834132816726694\n",
        "\n",
        "- Cluster 14 (32 sequences)\n",
        "  - **0.02521933628441389**\n",
        "  - 0.026392212032281842\n",
        "\n",
        "- Cluster 15 (32 sequences)\n",
        "  - **0.021156121316642188**\n",
        "  - 0.021385940436912033\n",
        "\n",
        "- Cluster 16 (38 sequences)\n",
        "  - **0.03559585489981125**\n",
        "  - 0.04395470817931405\n",
        "​\n",
        "- Cluster 17 (35 sequences)\n",
        "  - **0.021368584031533557**\n",
        "  - 0.03494431215101293\n",
        "\n",
        "- Cluster 18 (44 sequences)\n",
        "  - **0.030833249299606666**\n",
        "  - 0.04084255071381259\n",
        "\n",
        "\n",
        "- Cluster 19 (43 sequences)\n",
        "  - **0.028988372369092054**\n",
        "  - 0.02838513329014829\n",
        "\n",
        "- Cluster 20 (46 sequences)\n",
        "  - **0.031136101134928738**\n",
        "  - 0.035354425733552575\n",
        "\n",
        "- Cluster 21 (45 sequences)\n",
        "  - **0.033104020791197744**\n",
        "  - 0.04076744688656281"
      ]
    },
    {
      "cell_type": "code",
      "execution_count": null,
      "metadata": {
        "id": "xRd5MZ9VteIG"
      },
      "outputs": [],
      "source": [
        "range(0,21)"
      ]
    }
  ],
  "metadata": {
    "colab": {
      "name": "HIVEpistaticPhylogeny.ipynb",
      "provenance": []
    },
    "kernelspec": {
      "display_name": "Python 3",
      "name": "python3"
    },
    "language_info": {
      "name": "python"
    }
  },
  "nbformat": 4,
  "nbformat_minor": 0
}